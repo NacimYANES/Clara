{
 "cells": [
  {
   "cell_type": "code",
   "execution_count": 3,
   "metadata": {},
   "outputs": [
    {
     "name": "stderr",
     "output_type": "stream",
     "text": [
      "/var/folders/4t/bh41gy_n2bjb740h05bv978h0000gn/T/ipykernel_24493/3602308085.py:1: DtypeWarning: Columns (29,34) have mixed types. Specify dtype option on import or set low_memory=False.\n",
      "  MIMIC_III_sub=pd.read_csv('./MIMIC_III_finale.csv')\n"
     ]
    }
   ],
   "source": []
  },
  {
   "cell_type": "code",
   "execution_count": 1,
   "metadata": {},
   "outputs": [],
   "source": [
    "import pandas as pd\n"
   ]
  },
  {
   "cell_type": "code",
   "execution_count": 2,
   "metadata": {},
   "outputs": [],
   "source": [
    "MIMIC_III_sub=pd.read_csv('./MIMIC_III_finale.csv')\n"
   ]
  },
  {
   "cell_type": "code",
   "execution_count": 3,
   "metadata": {},
   "outputs": [
    {
     "data": {
      "text/plain": [
       "(44048, 32)"
      ]
     },
     "execution_count": 3,
     "metadata": {},
     "output_type": "execute_result"
    }
   ],
   "source": [
    "MIMIC_III_sub.shape"
   ]
  },
  {
   "cell_type": "code",
   "execution_count": 4,
   "metadata": {},
   "outputs": [],
   "source": [
    "admissions=pd.read_csv('./data/ADMISSIONS.csv')\n"
   ]
  },
  {
   "cell_type": "code",
   "execution_count": 5,
   "metadata": {},
   "outputs": [
    {
     "data": {
      "text/plain": [
       "(58976, 19)"
      ]
     },
     "execution_count": 5,
     "metadata": {},
     "output_type": "execute_result"
    }
   ],
   "source": [
    "admissions.shape"
   ]
  },
  {
   "cell_type": "code",
   "execution_count": 6,
   "metadata": {},
   "outputs": [
    {
     "data": {
      "text/plain": [
       "<bound method DataFrame.info of        ROW_ID  SUBJECT_ID  HADM_ID            ADMITTIME            DISCHTIME  \\\n",
       "0          21          22   165315  2196-04-09 12:26:00  2196-04-10 15:54:00   \n",
       "1          22          23   152223  2153-09-03 07:15:00  2153-09-08 19:10:00   \n",
       "2          23          23   124321  2157-10-18 19:34:00  2157-10-25 14:00:00   \n",
       "3          24          24   161859  2139-06-06 16:14:00  2139-06-09 12:48:00   \n",
       "4          25          25   129635  2160-11-02 02:06:00  2160-11-05 14:55:00   \n",
       "...       ...         ...      ...                  ...                  ...   \n",
       "58971   58594       98800   191113  2131-03-30 21:13:00  2131-04-02 15:02:00   \n",
       "58972   58595       98802   101071  2151-03-05 20:00:00  2151-03-06 09:10:00   \n",
       "58973   58596       98805   122631  2200-09-12 07:15:00  2200-09-20 12:08:00   \n",
       "58974   58597       98813   170407  2128-11-11 02:29:00  2128-12-22 13:11:00   \n",
       "58975   58598       98813   190264  2131-10-25 03:09:00  2131-10-26 17:44:00   \n",
       "\n",
       "                 DEATHTIME ADMISSION_TYPE         ADMISSION_LOCATION  \\\n",
       "0                      NaN      EMERGENCY       EMERGENCY ROOM ADMIT   \n",
       "1                      NaN       ELECTIVE  PHYS REFERRAL/NORMAL DELI   \n",
       "2                      NaN      EMERGENCY  TRANSFER FROM HOSP/EXTRAM   \n",
       "3                      NaN      EMERGENCY  TRANSFER FROM HOSP/EXTRAM   \n",
       "4                      NaN      EMERGENCY       EMERGENCY ROOM ADMIT   \n",
       "...                    ...            ...                        ...   \n",
       "58971                  NaN      EMERGENCY  CLINIC REFERRAL/PREMATURE   \n",
       "58972  2151-03-06 09:10:00      EMERGENCY  CLINIC REFERRAL/PREMATURE   \n",
       "58973                  NaN       ELECTIVE  PHYS REFERRAL/NORMAL DELI   \n",
       "58974                  NaN      EMERGENCY       EMERGENCY ROOM ADMIT   \n",
       "58975                  NaN      EMERGENCY  CLINIC REFERRAL/PREMATURE   \n",
       "\n",
       "              DISCHARGE_LOCATION INSURANCE LANGUAGE           RELIGION  \\\n",
       "0      DISC-TRAN CANCER/CHLDRN H   Private      NaN       UNOBTAINABLE   \n",
       "1               HOME HEALTH CARE  Medicare      NaN           CATHOLIC   \n",
       "2               HOME HEALTH CARE  Medicare     ENGL           CATHOLIC   \n",
       "3                           HOME   Private      NaN  PROTESTANT QUAKER   \n",
       "4                           HOME   Private      NaN       UNOBTAINABLE   \n",
       "...                          ...       ...      ...                ...   \n",
       "58971                       HOME   Private     ENGL      NOT SPECIFIED   \n",
       "58972               DEAD/EXPIRED  Medicare     ENGL           CATHOLIC   \n",
       "58973           HOME HEALTH CARE   Private     ENGL      NOT SPECIFIED   \n",
       "58974                        SNF   Private     ENGL           CATHOLIC   \n",
       "58975                       HOME   Private     ENGL           CATHOLIC   \n",
       "\n",
       "      MARITAL_STATUS ETHNICITY            EDREGTIME            EDOUTTIME  \\\n",
       "0            MARRIED     WHITE  2196-04-09 10:06:00  2196-04-09 13:24:00   \n",
       "1            MARRIED     WHITE                  NaN                  NaN   \n",
       "2            MARRIED     WHITE                  NaN                  NaN   \n",
       "3             SINGLE     WHITE                  NaN                  NaN   \n",
       "4            MARRIED     WHITE  2160-11-02 01:01:00  2160-11-02 04:27:00   \n",
       "...              ...       ...                  ...                  ...   \n",
       "58971         SINGLE     WHITE  2131-03-30 19:44:00  2131-03-30 22:41:00   \n",
       "58972        WIDOWED     WHITE  2151-03-05 17:23:00  2151-03-05 21:06:00   \n",
       "58973        MARRIED     WHITE                  NaN                  NaN   \n",
       "58974        MARRIED     WHITE  2128-11-10 23:48:00  2128-11-11 03:16:00   \n",
       "58975        MARRIED     WHITE  2131-10-25 00:08:00  2131-10-25 04:35:00   \n",
       "\n",
       "                                               DIAGNOSIS  \\\n",
       "0                                BENZODIAZEPINE OVERDOSE   \n",
       "1      CORONARY ARTERY DISEASE\\CORONARY ARTERY BYPASS...   \n",
       "2                                             BRAIN MASS   \n",
       "3                         INTERIOR MYOCARDIAL INFARCTION   \n",
       "4                                ACUTE CORONARY SYNDROME   \n",
       "...                                                  ...   \n",
       "58971                                             TRAUMA   \n",
       "58972                                                SAH   \n",
       "58973                                   RENAL CANCER/SDA   \n",
       "58974                                           S/P FALL   \n",
       "58975                            INTRACRANIAL HEMORRHAGE   \n",
       "\n",
       "       HOSPITAL_EXPIRE_FLAG  HAS_CHARTEVENTS_DATA  \n",
       "0                         0                     1  \n",
       "1                         0                     1  \n",
       "2                         0                     1  \n",
       "3                         0                     1  \n",
       "4                         0                     1  \n",
       "...                     ...                   ...  \n",
       "58971                     0                     1  \n",
       "58972                     1                     1  \n",
       "58973                     0                     1  \n",
       "58974                     0                     0  \n",
       "58975                     0                     1  \n",
       "\n",
       "[58976 rows x 19 columns]>"
      ]
     },
     "execution_count": 6,
     "metadata": {},
     "output_type": "execute_result"
    }
   ],
   "source": [
    "admissions.info"
   ]
  },
  {
   "cell_type": "code",
   "execution_count": 7,
   "metadata": {},
   "outputs": [],
   "source": [
    "# Select only the needed columns from ADMISSIONS\n",
    "admissions_subset = admissions[['SUBJECT_ID', 'HADM_ID', 'LANGUAGE', 'INSURANCE', 'RELIGION', 'MARITAL_STATUS', 'ETHNICITY']]\n",
    "\n",
    "# Merge with MIMIC_III_sub\n",
    "MIMIC_III_sub = pd.merge(\n",
    "    MIMIC_III_sub,\n",
    "    admissions_subset,\n",
    "    on=['SUBJECT_ID', 'HADM_ID'],\n",
    "    how='left'\n",
    ")"
   ]
  },
  {
   "cell_type": "code",
   "execution_count": 8,
   "metadata": {},
   "outputs": [
    {
     "data": {
      "text/plain": [
       "(44048, 37)"
      ]
     },
     "execution_count": 8,
     "metadata": {},
     "output_type": "execute_result"
    }
   ],
   "source": [
    "MIMIC_III_sub.shape"
   ]
  },
  {
   "cell_type": "code",
   "execution_count": 9,
   "metadata": {},
   "outputs": [
    {
     "data": {
      "text/html": [
       "<div>\n",
       "<style scoped>\n",
       "    .dataframe tbody tr th:only-of-type {\n",
       "        vertical-align: middle;\n",
       "    }\n",
       "\n",
       "    .dataframe tbody tr th {\n",
       "        vertical-align: top;\n",
       "    }\n",
       "\n",
       "    .dataframe thead th {\n",
       "        text-align: right;\n",
       "    }\n",
       "</style>\n",
       "<table border=\"1\" class=\"dataframe\">\n",
       "  <thead>\n",
       "    <tr style=\"text-align: right;\">\n",
       "      <th></th>\n",
       "      <th>ROW_ID_lab</th>\n",
       "      <th>SUBJECT_ID</th>\n",
       "      <th>HADM_ID</th>\n",
       "      <th>CHARTDATE</th>\n",
       "      <th>CATEGORY</th>\n",
       "      <th>DESCRIPTION</th>\n",
       "      <th>TEXT</th>\n",
       "      <th>ROW_ID_mimic</th>\n",
       "      <th>ITEMID</th>\n",
       "      <th>CHARTTIME</th>\n",
       "      <th>...</th>\n",
       "      <th>DRUG</th>\n",
       "      <th>PROD_STRENGTH</th>\n",
       "      <th>DOSE_VAL_RX</th>\n",
       "      <th>DOSE_UNIT_RX</th>\n",
       "      <th>ROUTE</th>\n",
       "      <th>LANGUAGE</th>\n",
       "      <th>INSURANCE</th>\n",
       "      <th>RELIGION</th>\n",
       "      <th>MARITAL_STATUS</th>\n",
       "      <th>ETHNICITY</th>\n",
       "    </tr>\n",
       "  </thead>\n",
       "  <tbody>\n",
       "    <tr>\n",
       "      <th>0</th>\n",
       "      <td>175</td>\n",
       "      <td>13702</td>\n",
       "      <td>107527.0</td>\n",
       "      <td>2118-06-14</td>\n",
       "      <td>Discharge summary</td>\n",
       "      <td>Report</td>\n",
       "      <td>Admission Date:  [**2118-6-2**]       Discharg...</td>\n",
       "      <td>8524304</td>\n",
       "      <td>51301</td>\n",
       "      <td>2118-06-02 07:30:00</td>\n",
       "      <td>...</td>\n",
       "      <td>Pantoprazole</td>\n",
       "      <td>40mg Tab</td>\n",
       "      <td>40</td>\n",
       "      <td>mg</td>\n",
       "      <td>PO</td>\n",
       "      <td>NaN</td>\n",
       "      <td>Medicare</td>\n",
       "      <td>CATHOLIC</td>\n",
       "      <td>MARRIED</td>\n",
       "      <td>WHITE</td>\n",
       "    </tr>\n",
       "    <tr>\n",
       "      <th>1</th>\n",
       "      <td>176</td>\n",
       "      <td>13702</td>\n",
       "      <td>167118.0</td>\n",
       "      <td>2119-05-25</td>\n",
       "      <td>Discharge summary</td>\n",
       "      <td>Report</td>\n",
       "      <td>Admission Date:  [**2119-5-4**]              D...</td>\n",
       "      <td>8524896</td>\n",
       "      <td>51200</td>\n",
       "      <td>2119-05-04 22:21:00</td>\n",
       "      <td>...</td>\n",
       "      <td>Vial</td>\n",
       "      <td>Send Vial</td>\n",
       "      <td>1</td>\n",
       "      <td>VIAL</td>\n",
       "      <td>IV</td>\n",
       "      <td>NaN</td>\n",
       "      <td>Medicare</td>\n",
       "      <td>CATHOLIC</td>\n",
       "      <td>MARRIED</td>\n",
       "      <td>WHITE</td>\n",
       "    </tr>\n",
       "    <tr>\n",
       "      <th>2</th>\n",
       "      <td>177</td>\n",
       "      <td>13702</td>\n",
       "      <td>196489.0</td>\n",
       "      <td>2124-08-18</td>\n",
       "      <td>Discharge summary</td>\n",
       "      <td>Report</td>\n",
       "      <td>Admission Date:  [**2124-7-21**]              ...</td>\n",
       "      <td>8525989</td>\n",
       "      <td>50902</td>\n",
       "      <td>2124-07-21 09:55:00</td>\n",
       "      <td>...</td>\n",
       "      <td>PredniSONE</td>\n",
       "      <td>20 mg Tablet</td>\n",
       "      <td>40</td>\n",
       "      <td>mg</td>\n",
       "      <td>PO/NG</td>\n",
       "      <td>ENGL</td>\n",
       "      <td>Medicare</td>\n",
       "      <td>CATHOLIC</td>\n",
       "      <td>MARRIED</td>\n",
       "      <td>WHITE</td>\n",
       "    </tr>\n",
       "    <tr>\n",
       "      <th>3</th>\n",
       "      <td>178</td>\n",
       "      <td>26880</td>\n",
       "      <td>135453.0</td>\n",
       "      <td>2162-03-25</td>\n",
       "      <td>Discharge summary</td>\n",
       "      <td>Report</td>\n",
       "      <td>Admission Date:  [**2162-3-3**]              D...</td>\n",
       "      <td>16630780</td>\n",
       "      <td>51279</td>\n",
       "      <td>2162-03-03 15:40:00</td>\n",
       "      <td>...</td>\n",
       "      <td>CefazoLIN</td>\n",
       "      <td>1g Froz.Bag</td>\n",
       "      <td>1</td>\n",
       "      <td>g</td>\n",
       "      <td>IV</td>\n",
       "      <td>RUSS</td>\n",
       "      <td>Medicare</td>\n",
       "      <td>JEWISH</td>\n",
       "      <td>MARRIED</td>\n",
       "      <td>WHITE</td>\n",
       "    </tr>\n",
       "    <tr>\n",
       "      <th>4</th>\n",
       "      <td>179</td>\n",
       "      <td>53181</td>\n",
       "      <td>170490.0</td>\n",
       "      <td>2172-03-08</td>\n",
       "      <td>Discharge summary</td>\n",
       "      <td>Report</td>\n",
       "      <td>Admission Date:  [**2172-3-5**]              D...</td>\n",
       "      <td>21694014</td>\n",
       "      <td>50824</td>\n",
       "      <td>2172-03-05 12:30:00</td>\n",
       "      <td>...</td>\n",
       "      <td>CefazoLIN</td>\n",
       "      <td>10g Bulk vial</td>\n",
       "      <td>2</td>\n",
       "      <td>g</td>\n",
       "      <td>IV</td>\n",
       "      <td>ENGL</td>\n",
       "      <td>Private</td>\n",
       "      <td>NOT SPECIFIED</td>\n",
       "      <td>MARRIED</td>\n",
       "      <td>WHITE</td>\n",
       "    </tr>\n",
       "  </tbody>\n",
       "</table>\n",
       "<p>5 rows × 37 columns</p>\n",
       "</div>"
      ],
      "text/plain": [
       "   ROW_ID_lab  SUBJECT_ID   HADM_ID   CHARTDATE           CATEGORY  \\\n",
       "0         175       13702  107527.0  2118-06-14  Discharge summary   \n",
       "1         176       13702  167118.0  2119-05-25  Discharge summary   \n",
       "2         177       13702  196489.0  2124-08-18  Discharge summary   \n",
       "3         178       26880  135453.0  2162-03-25  Discharge summary   \n",
       "4         179       53181  170490.0  2172-03-08  Discharge summary   \n",
       "\n",
       "  DESCRIPTION                                               TEXT  \\\n",
       "0      Report  Admission Date:  [**2118-6-2**]       Discharg...   \n",
       "1      Report  Admission Date:  [**2119-5-4**]              D...   \n",
       "2      Report  Admission Date:  [**2124-7-21**]              ...   \n",
       "3      Report  Admission Date:  [**2162-3-3**]              D...   \n",
       "4      Report  Admission Date:  [**2172-3-5**]              D...   \n",
       "\n",
       "   ROW_ID_mimic  ITEMID            CHARTTIME  ...          DRUG  \\\n",
       "0       8524304   51301  2118-06-02 07:30:00  ...  Pantoprazole   \n",
       "1       8524896   51200  2119-05-04 22:21:00  ...          Vial   \n",
       "2       8525989   50902  2124-07-21 09:55:00  ...    PredniSONE   \n",
       "3      16630780   51279  2162-03-03 15:40:00  ...     CefazoLIN   \n",
       "4      21694014   50824  2172-03-05 12:30:00  ...     CefazoLIN   \n",
       "\n",
       "   PROD_STRENGTH DOSE_VAL_RX DOSE_UNIT_RX  ROUTE LANGUAGE  INSURANCE  \\\n",
       "0       40mg Tab          40           mg     PO      NaN   Medicare   \n",
       "1      Send Vial           1         VIAL     IV      NaN   Medicare   \n",
       "2   20 mg Tablet          40           mg  PO/NG     ENGL   Medicare   \n",
       "3    1g Froz.Bag           1            g     IV     RUSS   Medicare   \n",
       "4  10g Bulk vial           2            g     IV     ENGL    Private   \n",
       "\n",
       "        RELIGION MARITAL_STATUS  ETHNICITY  \n",
       "0       CATHOLIC        MARRIED      WHITE  \n",
       "1       CATHOLIC        MARRIED      WHITE  \n",
       "2       CATHOLIC        MARRIED      WHITE  \n",
       "3         JEWISH        MARRIED      WHITE  \n",
       "4  NOT SPECIFIED        MARRIED      WHITE  \n",
       "\n",
       "[5 rows x 37 columns]"
      ]
     },
     "execution_count": 9,
     "metadata": {},
     "output_type": "execute_result"
    }
   ],
   "source": [
    "MIMIC_III_sub.head()"
   ]
  },
  {
   "cell_type": "code",
   "execution_count": 15,
   "metadata": {},
   "outputs": [],
   "source": [
    "MIMIC_III_sub.to_csv(\"MIMIC_III_finale_2.csv\",index=False)"
   ]
  },
  {
   "cell_type": "code",
   "execution_count": 10,
   "metadata": {},
   "outputs": [
    {
     "name": "stdout",
     "output_type": "stream",
     "text": [
      "Merging complete. Saved as merged_mimic_finale.csv\n"
     ]
    }
   ],
   "source": [
    "import pandas as pd\n",
    "import os\n",
    "\n",
    "# Folder containing the CSV files\n",
    "folder_path = \"mimic3_batches\"\n",
    "\n",
    "# List all CSV files in the folder\n",
    "csv_files = [f for f in os.listdir(folder_path) if f.startswith(\"mimic3_batch_\") and f.endswith(\".csv\")]\n",
    "\n",
    "# Sort files to maintain order\n",
    "csv_files.sort()\n",
    "\n",
    "# Read and concatenate all CSV files\n",
    "df_list = [pd.read_csv(os.path.join(folder_path, file)) for file in csv_files]\n",
    "merged_df = pd.concat(df_list, ignore_index=True)\n",
    "\n",
    "# Save the merged file\n",
    "merged_df.to_csv(os.path.join(folder_path, \"merged_mimic_llm.csv\"), index=False)\n",
    "\n",
    "print(\"Merging complete. Saved as merged_mimic_finale.csv\")\n"
   ]
  },
  {
   "cell_type": "code",
   "execution_count": null,
   "metadata": {},
   "outputs": [
    {
     "name": "stdout",
     "output_type": "stream",
     "text": [
      "ROW_ID column removed and saved as modified_file.csv\n"
     ]
    }
   ],
   "source": [
    "import pandas as pd\n",
    "\n",
    "# Load the CSV file\n",
    "file_path = \"./mimic3_batches/merged_mimic_llm.csv\"  # Replace with your file path\n",
    "df = pd.read_csv(file_path)\n",
    "\n",
    "# Drop the \"ROW_ID\" column if it exists\n",
    "if \"ROW_ID_lab\" in df.columns:\n",
    "    df = df.drop(columns=[\"ROW_ID_lab\"])\n",
    "\n",
    "# Save the modified file\n",
    "df.to_csv(\"mimic_lllm_v2.csv\", index=False)\n",
    "\n",
    "print(\"ROW_ID column removed and saved as modified_file.csv\")\n"
   ]
  }
 ],
 "metadata": {
  "kernelspec": {
   "display_name": "Python 3",
   "language": "python",
   "name": "python3"
  },
  "language_info": {
   "codemirror_mode": {
    "name": "ipython",
    "version": 3
   },
   "file_extension": ".py",
   "mimetype": "text/x-python",
   "name": "python",
   "nbconvert_exporter": "python",
   "pygments_lexer": "ipython3",
   "version": "3.11.3"
  }
 },
 "nbformat": 4,
 "nbformat_minor": 2
}
